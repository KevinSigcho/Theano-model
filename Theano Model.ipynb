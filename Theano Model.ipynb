{
 "cells": [
  {
   "cell_type": "markdown",
   "id": "2c98fe3f",
   "metadata": {},
   "source": [
    "# Problema 2\n",
    "\n",
    "Crea un conjunto de datos utilizando el siguiente código:\n",
    "\n",
    "trX = np.linspace(-1, 1, 101)\n",
    "\n",
    "trY = np.linspace(-1, 1, 101)\n",
    "\n",
    "for i in range(len(trY)):\n",
    "\n",
    "trY[i] = math.log(1 + 0.5 * abs(trX[i])) + trX[i] / 3 + np.random.randn() * 0.033\n",
    "\n",
    "Ahora, utiliza Theano para obtener los parámetros w_0 y w_1 del siguiente modelo:\n",
    "\n",
    "$$y=log(1+w_{0}\\left | x \\right |)+w_{1}x$$\n",
    "\n",
    "utilizando los datos generados anteriormente."
   ]
  },
  {
   "cell_type": "markdown",
   "id": "db69abae",
   "metadata": {},
   "source": [
    "# Creación del conjunto de datos"
   ]
  },
  {
   "cell_type": "code",
   "execution_count": 33,
   "id": "c618f119",
   "metadata": {},
   "outputs": [],
   "source": [
    "import math\n",
    "import numpy as np\n",
    "\n",
    "trX = np.linspace(-1, 1, 101)\n",
    "\n",
    "trY = np.linspace(-1, 1, 101)\n",
    "\n",
    "for i in range(len(trY)):\n",
    "\n",
    "    trY[i] = math.log(1 + 0.5 * abs(trX[i])) + trX[i] / 3 + np.random.randn() * 0.033º"
   ]
  },
  {
   "cell_type": "markdown",
   "id": "b9ef07fa",
   "metadata": {},
   "source": [
    "# Creación del modelo \n",
    "## $$y=log(1+w_{0}\\left | x \\right |)+w_{1}x$$"
   ]
  },
  {
   "cell_type": "code",
   "execution_count": 34,
   "id": "afc3f7ef",
   "metadata": {},
   "outputs": [
    {
     "name": "stdout",
     "output_type": "stream",
     "text": [
      "En el paso 0 el valor de w es 0.13426274121096465 y c es 0.2776493139749101 con un coste 0.10960100025144572\n",
      "En el paso 1 el valor de w es 0.2588497649692864 y c es 0.2713146339614746 con un coste 0.04321446571282187\n",
      "En el paso 2 el valor de w es 0.3290127179087239 y c es 0.24948303697965393 con un coste 0.024817506427136832\n",
      "En el paso 3 el valor de w es 0.365381650068055 y c es 0.23608446334778707 con un coste 0.017851170837685133\n",
      "En el paso 4 el valor de w es 0.3838750031416097 y c es 0.2290134822152898 con un coste 0.014813316732083035\n",
      "En el paso 5 el valor de w es 0.39323434715297373 y c es 0.2254023505375829 con un coste 0.013391638809646899\n",
      "En el paso 6 el valor de w es 0.3979654333951708 y c es 0.22357281659785713 con un coste 0.012701244522367209\n",
      "En el paso 7 el valor de w es 0.4003562549075989 y c es 0.22264774969134984 con un coste 0.012359429374507137\n",
      "En el paso 8 el valor de w es 0.401564349598046 y c es 0.22218024185894472 con un coste 0.012188496916059163\n",
      "En el paso 9 el valor de w es 0.40217479472639467 y c es 0.2219440036628224 con un coste 0.012102580075249343\n",
      "En el paso 10 el valor de w es 0.40248324860521745 y c es 0.22182463299142782 con un coste 0.012059282681246513\n",
      "En el paso 11 el valor de w es 0.4026391081212512 y c es 0.2217643157170334 con un coste 0.012037434359350657\n",
      "En el paso 12 el valor de w es 0.4027178627848988 y c es 0.22173383782588058 con un coste 0.012026402101213559\n",
      "En el paso 13 el valor de w es 0.40275765693246146 y c es 0.2217184375712721 con un coste 0.012020829507012042\n",
      "En el paso 14 el valor de w es 0.40277776461976506 y c es 0.22171065593668027 con un coste 0.01201801420771642\n",
      "En el paso 15 el valor de w es 0.4027879248848174 y c es 0.22170672393448057 con un coste 0.012016591783291893\n",
      "En el paso 16 el valor de w es 0.40279305879128097 y c es 0.22170473712297029 con un coste 0.012015873074811678\n",
      "En el paso 17 el valor de w es 0.4027956529160829 y c es 0.22170373320187134 con un coste 0.012015509924929396\n",
      "En el paso 18 el valor de w es 0.40279696370807655 y c es 0.22170322592799693 con un coste 0.01201532643007831\n",
      "En el paso 19 el valor de w es 0.4027976260415344 y c es 0.22170296960627617 con un coste 0.012015233712025935\n",
      "En el paso 20 el valor de w es 0.4027979607137109 y c es 0.22170284008881472 con un coste 0.01201518686241881\n",
      "En el paso 21 el valor de w es 0.4027981298210758 y c es 0.22170277464460342 con un coste 0.012015163189695043\n",
      "En el paso 22 el valor de w es 0.40279821526977116 y c es 0.2217027415761295 con un coste 0.012015151228052457\n",
      "En el paso 23 el valor de w es 0.40279825844636225 y c es 0.22170272486687537 con un coste 0.012015145183925553\n",
      "En el paso 24 el valor de w es 0.40279828026317294 y c es 0.2217027164238133 con un coste 0.012015142129873731\n",
      "En el paso 25 el valor de w es 0.4027982912870454 y c es 0.2217027121575968 con un coste 0.012015140586684145\n",
      "En el paso 26 el valor de w es 0.4027982968573261 y c es 0.22170271000190933 con un coste 0.012015139806921964\n",
      "En el paso 27 el valor de w es 0.40279829967194763 y c es 0.22170270891265642 con un coste 0.012015139412913956\n",
      "En el paso 28 el valor de w es 0.4027983010941551 y c es 0.22170270836226494 con un coste 0.012015139213824615\n",
      "En el paso 29 el valor de w es 0.40279830181278564 y c es 0.22170270808415637 con un coste 0.012015139113226294\n",
      "En el paso 30 el valor de w es 0.4027983021759045 y c es 0.22170270794363017 con un coste 0.012015139062394679\n",
      "En el paso 31 el valor de w es 0.40279830235938574 y c es 0.22170270787262322 con un coste 0.01201513903670984\n",
      "En el paso 32 el valor de w es 0.40279830245209775 y c es 0.22170270783674384 con un coste 0.012015139023731474\n",
      "En el paso 33 el valor de w es 0.4027983024989442 y c es 0.2217027078186144 con un coste 0.012015139017173593\n",
      "En el paso 34 el valor de w es 0.40279830252261556 y c es 0.22170270780945367 con un coste 0.012015139013859921\n",
      "En el paso 35 el valor de w es 0.4027983025345765 y c es 0.22170270780482482 con un coste 0.012015139012185563\n",
      "En el paso 36 el valor de w es 0.40279830254062005 y c es 0.2217027078024859 con un coste 0.012015139011339559\n",
      "En el paso 37 el valor de w es 0.4027983025436736 y c es 0.22170270780130422 con un coste 0.012015139010912092\n",
      "En el paso 38 el valor de w es 0.40279830254521665 y c es 0.22170270780070697 con un coste 0.012015139010696107\n",
      "En el paso 39 el valor de w es 0.4027983025459964 y c es 0.22170270780040535 con un coste 0.012015139010586921\n",
      "En el paso 40 el valor de w es 0.4027983025463906 y c es 0.22170270780025275 con un coste 0.012015139010531743\n",
      "En el paso 41 el valor de w es 0.4027983025465897 y c es 0.22170270780017565 con un coste 0.012015139010503901\n",
      "En el paso 42 el valor de w es 0.4027983025466902 y c es 0.2217027078001368 con un coste 0.012015139010489832\n",
      "En el paso 43 el valor de w es 0.402798302546741 y c es 0.22170270780011717 con un coste 0.0120151390104827\n",
      "En el paso 44 el valor de w es 0.4027983025467666 y c es 0.22170270780010717 con un coste 0.012015139010479146\n",
      "En el paso 45 el valor de w es 0.4027983025467796 y c es 0.22170270780010218 con un coste 0.012015139010477297\n",
      "En el paso 46 el valor de w es 0.40279830254678634 y c es 0.22170270780009965 con un coste 0.012015139010476348\n",
      "En el paso 47 el valor de w es 0.4027983025467895 y c es 0.22170270780009826 con un coste 0.012015139010475934\n",
      "En el paso 48 el valor de w es 0.4027983025467913 y c es 0.22170270780009774 con un coste 0.012015139010475667\n",
      "En el paso 49 el valor de w es 0.402798302546792 y c es 0.22170270780009743 con un coste 0.01201513901047557\n",
      "En el paso 50 el valor de w es 0.40279830254679244 y c es 0.22170270780009724 con un coste 0.01201513901047552\n",
      "En el paso 51 el valor de w es 0.4027983025467926 y c es 0.22170270780009713 con un coste 0.012015139010475472\n",
      "En el paso 52 el valor de w es 0.4027983025467928 y c es 0.2217027078000971 con un coste 0.012015139010475448\n",
      "En el paso 53 el valor de w es 0.40279830254679283 y c es 0.22170270780009704 con un coste 0.012015139010475448\n",
      "En el paso 54 el valor de w es 0.4027983025467929 y c es 0.221702707800097 con un coste 0.012015139010475448\n",
      "En el paso 55 el valor de w es 0.40279830254679294 y c es 0.22170270780009696 con un coste 0.012015139010475448\n",
      "En el paso 56 el valor de w es 0.402798302546793 y c es 0.221702707800097 con un coste 0.012015139010475424\n",
      "En el paso 57 el valor de w es 0.40279830254679305 y c es 0.221702707800097 con un coste 0.012015139010475424\n",
      "En el paso 58 el valor de w es 0.4027983025467931 y c es 0.22170270780009696 con un coste 0.012015139010475424\n",
      "En el paso 59 el valor de w es 0.4027983025467931 y c es 0.22170270780009696 con un coste 0.012015139010475424\n",
      "En el paso 60 el valor de w es 0.4027983025467931 y c es 0.22170270780009696 con un coste 0.012015139010475424\n",
      "En el paso 61 el valor de w es 0.4027983025467931 y c es 0.22170270780009696 con un coste 0.012015139010475424\n",
      "En el paso 62 el valor de w es 0.4027983025467931 y c es 0.22170270780009696 con un coste 0.012015139010475424\n",
      "En el paso 63 el valor de w es 0.4027983025467931 y c es 0.22170270780009696 con un coste 0.012015139010475424\n",
      "En el paso 64 el valor de w es 0.4027983025467931 y c es 0.22170270780009696 con un coste 0.012015139010475424\n",
      "En el paso 65 el valor de w es 0.4027983025467931 y c es 0.22170270780009696 con un coste 0.012015139010475424\n",
      "En el paso 66 el valor de w es 0.4027983025467931 y c es 0.22170270780009696 con un coste 0.012015139010475424\n",
      "En el paso 67 el valor de w es 0.4027983025467931 y c es 0.22170270780009696 con un coste 0.012015139010475424\n",
      "En el paso 68 el valor de w es 0.4027983025467931 y c es 0.22170270780009696 con un coste 0.012015139010475424\n",
      "En el paso 69 el valor de w es 0.4027983025467931 y c es 0.22170270780009696 con un coste 0.012015139010475424\n",
      "En el paso 70 el valor de w es 0.4027983025467931 y c es 0.22170270780009696 con un coste 0.012015139010475424\n",
      "En el paso 71 el valor de w es 0.4027983025467931 y c es 0.22170270780009696 con un coste 0.012015139010475424\n",
      "En el paso 72 el valor de w es 0.4027983025467931 y c es 0.22170270780009696 con un coste 0.012015139010475424\n",
      "En el paso 73 el valor de w es 0.4027983025467931 y c es 0.22170270780009696 con un coste 0.012015139010475424\n",
      "En el paso 74 el valor de w es 0.4027983025467931 y c es 0.22170270780009696 con un coste 0.012015139010475424\n",
      "En el paso 75 el valor de w es 0.4027983025467931 y c es 0.22170270780009696 con un coste 0.012015139010475424\n",
      "En el paso 76 el valor de w es 0.4027983025467931 y c es 0.22170270780009696 con un coste 0.012015139010475424\n",
      "En el paso 77 el valor de w es 0.4027983025467931 y c es 0.22170270780009696 con un coste 0.012015139010475424\n"
     ]
    },
    {
     "name": "stdout",
     "output_type": "stream",
     "text": [
      "En el paso 78 el valor de w es 0.4027983025467931 y c es 0.22170270780009696 con un coste 0.012015139010475424\n",
      "En el paso 79 el valor de w es 0.4027983025467931 y c es 0.22170270780009696 con un coste 0.012015139010475424\n",
      "En el paso 80 el valor de w es 0.4027983025467931 y c es 0.22170270780009696 con un coste 0.012015139010475424\n",
      "En el paso 81 el valor de w es 0.4027983025467931 y c es 0.22170270780009696 con un coste 0.012015139010475424\n",
      "En el paso 82 el valor de w es 0.4027983025467931 y c es 0.22170270780009696 con un coste 0.012015139010475424\n",
      "En el paso 83 el valor de w es 0.4027983025467931 y c es 0.22170270780009696 con un coste 0.012015139010475424\n",
      "En el paso 84 el valor de w es 0.4027983025467931 y c es 0.22170270780009696 con un coste 0.012015139010475424\n",
      "En el paso 85 el valor de w es 0.4027983025467931 y c es 0.22170270780009696 con un coste 0.012015139010475424\n",
      "En el paso 86 el valor de w es 0.4027983025467931 y c es 0.22170270780009696 con un coste 0.012015139010475424\n",
      "En el paso 87 el valor de w es 0.4027983025467931 y c es 0.22170270780009696 con un coste 0.012015139010475424\n",
      "En el paso 88 el valor de w es 0.4027983025467931 y c es 0.22170270780009696 con un coste 0.012015139010475424\n",
      "En el paso 89 el valor de w es 0.4027983025467931 y c es 0.22170270780009696 con un coste 0.012015139010475424\n",
      "En el paso 90 el valor de w es 0.4027983025467931 y c es 0.22170270780009696 con un coste 0.012015139010475424\n",
      "En el paso 91 el valor de w es 0.4027983025467931 y c es 0.22170270780009696 con un coste 0.012015139010475424\n",
      "En el paso 92 el valor de w es 0.4027983025467931 y c es 0.22170270780009696 con un coste 0.012015139010475424\n",
      "En el paso 93 el valor de w es 0.4027983025467931 y c es 0.22170270780009696 con un coste 0.012015139010475424\n",
      "En el paso 94 el valor de w es 0.4027983025467931 y c es 0.22170270780009696 con un coste 0.012015139010475424\n",
      "En el paso 95 el valor de w es 0.4027983025467931 y c es 0.22170270780009696 con un coste 0.012015139010475424\n",
      "En el paso 96 el valor de w es 0.4027983025467931 y c es 0.22170270780009696 con un coste 0.012015139010475424\n",
      "En el paso 97 el valor de w es 0.4027983025467931 y c es 0.22170270780009696 con un coste 0.012015139010475424\n",
      "En el paso 98 el valor de w es 0.4027983025467931 y c es 0.22170270780009696 con un coste 0.012015139010475424\n",
      "En el paso 99 el valor de w es 0.4027983025467931 y c es 0.22170270780009696 con un coste 0.012015139010475424\n",
      "En el paso 100 el valor de w es 0.4027983025467931 y c es 0.22170270780009696 con un coste 0.012015139010475424\n"
     ]
    }
   ],
   "source": [
    "X = T.scalar()\n",
    "Y = T.scalar()\n",
    "\n",
    "def model(X, w, c):\n",
    "    return X * w + c\n",
    "\n",
    "w = theano.shared(np.asarray(0., dtype = theano.config.floatX))\n",
    "c = theano.shared(np.asarray(0., dtype = theano.config.floatX))\n",
    "y = model(X, w, c)\n",
    "learning_rate=0.01\n",
    "\n",
    "cost     = T.mean(T.sqr(y - Y))\n",
    "gradient_w = T.grad(cost = cost, wrt = w)\n",
    "gradient_c = T.grad(cost = cost, wrt = c)\n",
    "updates  = [[w, w - gradient_w * learning_rate], [c, c - gradient_c * learning_rate]]\n",
    "\n",
    "train = theano.function(inputs = [X, Y], outputs = cost, updates = updates)\n",
    "\n",
    "coste=[] #Variable para almacenar los datos de coste para poder representarlos gráficamente\n",
    "\n",
    "for i in range(101):\n",
    "    for x, y in zip(trX, trY):\n",
    "        cost_i = train(x, y)\n",
    "    print('En el paso', i, 'el valor de w es', w.get_value(),\n",
    "           'y c es', c.get_value(), 'con un coste', cost_i)\n",
    "    coste.append(cost_i)"
   ]
  },
  {
   "cell_type": "markdown",
   "id": "74ccee3e",
   "metadata": {},
   "source": [
    "# Obtención de los parámetros del modelo"
   ]
  },
  {
   "cell_type": "code",
   "execution_count": 25,
   "id": "3a753b06",
   "metadata": {},
   "outputs": [
    {
     "name": "stdout",
     "output_type": "stream",
     "text": [
      "El valor del parámetro w0 es:  0.408 . Mientras que el del parámetro w1 es:  0.211\n"
     ]
    }
   ],
   "source": [
    "w0=float(w.get_value())\n",
    "w1=float(c.get_value())\n",
    "\n",
    "print('El valor del parámetro w0 es: ', round(w0, 3) , '. Mientras que el del parámetro w1 es: ', round(w1,3))"
   ]
  },
  {
   "cell_type": "markdown",
   "id": "77ac1be6",
   "metadata": {},
   "source": [
    "# Función de esfuerzo en función del número de iteraciones"
   ]
  },
  {
   "cell_type": "code",
   "execution_count": 30,
   "id": "84feeb8f",
   "metadata": {},
   "outputs": [
    {
     "data": {
      "text/plain": [
       "[<matplotlib.lines.Line2D at 0x7fbdb9b897c0>]"
      ]
     },
     "execution_count": 30,
     "metadata": {},
     "output_type": "execute_result"
    },
    {
     "data": {
      "image/png": "[encoded data removed]",
      "text/plain": [
       "<Figure size 432x288 with 1 Axes>"
      ]
     },
     "metadata": {
      "needs_background": "light"
     },
     "output_type": "display_data"
    }
   ],
   "source": [
    "plt.plot(coste)"
   ]
  }
 ],
 "metadata": {
  "kernelspec": {
   "display_name": "Python 3 (ipykernel)",
   "language": "python",
   "name": "python3"
  },
  "language_info": {
   "codemirror_mode": {
    "name": "ipython",
    "version": 3
   },
   "file_extension": ".py",
   "mimetype": "text/x-python",
   "name": "python",
   "nbconvert_exporter": "python",
   "pygments_lexer": "ipython3",
   "version": "3.9.7"
  }
 },
 "nbformat": 4,
 "nbformat_minor": 5
}
